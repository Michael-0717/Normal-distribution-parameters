{
 "cells": [
  {
   "cell_type": "code",
   "execution_count": 13,
   "metadata": {},
   "outputs": [],
   "source": [
    "%matplotlib inline\n",
    "import numpy as np\n",
    "import matplotlib.pyplot as plt\n",
    "import scipy.stats as st "
   ]
  },
  {
   "cell_type": "code",
   "execution_count": 14,
   "metadata": {},
   "outputs": [
    {
     "name": "stdout",
     "output_type": "stream",
     "text": [
      "Математическое ожидание 46.214285714285715\n",
      "Стандартное отклонение 0.3112244897959183\n"
     ]
    }
   ],
   "source": [
    "mens = [47, 47, 45, 45, 46, 47, 47, 47,  47, 47, 47, 46, 46, 46, 46, 46, 46, 46, 46, 46, 46, 46, 46, 46, 46, 46, 46, 46] # dice\n",
    "# M = 1294/28 = 46,2\n",
    "print (\"Математическое ожидание\", np.mean(mens))\n",
    "print (\"Стандартное отклонение\", np.std(mens)**2)"
   ]
  },
  {
   "cell_type": "markdown",
   "metadata": {},
   "source": [
    "x = 50 # статистическая гипотеза, что доля мужчин составляет 50%\n",
    "p = 0.01"
   ]
  },
  {
   "cell_type": "code",
   "execution_count": 16,
   "metadata": {},
   "outputs": [
    {
     "name": "stdout",
     "output_type": "stream",
     "text": [
      "False\n"
     ]
    }
   ],
   "source": [
    "x = 50 # статистическая гипотеза, что доля мужчин составляет 50% \n",
    "p = 0.01 # уровень значимости\n",
    "mens_g = np.array([47, 47, 45, 45, 46, 47, 47, 47,  47, 47, 47, 46, 46, 46, 46, 46, 46, 46, 46, 46, 46, 46, 46, 46, 46, 46, 46, 46])\n",
    "interval = st.t.interval(0.995, len(mens_g)-1, loc = mens_g.mean(), scale = st.sem(mens_g)) \n",
    "# Доверительный интервал равен 1 - p/2 = 1 - 0.005 = 0.995 или 99,5%\n",
    "print (x > interval[0] and x < interval[1])"
   ]
  }
 ],
 "metadata": {
  "kernelspec": {
   "display_name": "Python 3 (ipykernel)",
   "language": "python",
   "name": "python3"
  },
  "language_info": {
   "codemirror_mode": {
    "name": "ipython",
    "version": 3
   },
   "file_extension": ".py",
   "mimetype": "text/x-python",
   "name": "python",
   "nbconvert_exporter": "python",
   "pygments_lexer": "ipython3",
   "version": "3.9.13"
  }
 },
 "nbformat": 4,
 "nbformat_minor": 4
}
